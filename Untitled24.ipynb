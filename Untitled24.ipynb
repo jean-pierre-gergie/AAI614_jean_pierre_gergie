{
  "nbformat": 4,
  "nbformat_minor": 0,
  "metadata": {
    "colab": {
      "provenance": [],
      "authorship_tag": "ABX9TyMK3mwIOKPvWtjwGz0Yku3b",
      "include_colab_link": true
    },
    "kernelspec": {
      "name": "python3",
      "display_name": "Python 3"
    },
    "language_info": {
      "name": "python"
    }
  },
  "cells": [
    {
      "cell_type": "markdown",
      "metadata": {
        "id": "view-in-github",
        "colab_type": "text"
      },
      "source": [
        "<a href=\"https://colab.research.google.com/github/jean-pierre-gergie/AAI614_jean_pierre_gergie/blob/main/Untitled24.ipynb\" target=\"_parent\"><img src=\"https://colab.research.google.com/assets/colab-badge.svg\" alt=\"Open In Colab\"/></a>"
      ]
    },
    {
      "cell_type": "code",
      "execution_count": null,
      "metadata": {
        "id": "o0Dwn7BRaMP1"
      },
      "outputs": [],
      "source": [
        "https://github.com/jean-pierre-gergie/AAI614_jean_pierre_gergie"
      ]
    }
  ]
}