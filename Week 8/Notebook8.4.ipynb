{
  "cells": [
    {
      "cell_type": "markdown",
      "id": "5639149e",
      "metadata": {
        "id": "5639149e"
      },
      "source": [
        "# AAI614: Data Science & its Applications\n",
        "\n",
        "*Notebook 8.4: Classifying Sentiments in Arabizi*\n",
        "\n",
        "<a href=\"https://colab.research.google.com/github/harmanani/AAI614/blob/main/Week%208/Notebook8.4.ipynb\" target=\"_parent\"><img src=\"https://colab.research.google.com/assets/colab-badge.svg\" alt=\"Open In Colab\"/></a>\n",
        "\n",
        "Please check the following [paper](https://github.com/harmanani/AAI614/blob/main/Week%208/Arabizi.pdf) for reference purposes."
      ]
    },
    {
      "cell_type": "code",
      "execution_count": 1,
      "id": "b5260708",
      "metadata": {
        "id": "b5260708"
      },
      "outputs": [],
      "source": [
        "import io\n",
        "import pandas as pd\n",
        "import re\n",
        "import csv\n",
        "from random import shuffle\n",
        "import tensorflow as tf\n",
        "import numpy as np\n",
        "from tensorflow.keras.preprocessing.text import Tokenizer\n",
        "from tensorflow.keras.preprocessing.sequence import pad_sequences\n",
        "import matplotlib.pyplot as plt\n",
        "import ssl\n",
        "from tensorflow.keras.layers import Embedding, LSTM, Dense, Bidirectional, Dropout, Conv1D, MaxPooling1D\n",
        "\n",
        "ssl._create_default_https_context = ssl._create_unverified_context"
      ]
    },
    {
      "cell_type": "code",
      "execution_count": 2,
      "id": "e0626490",
      "metadata": {
        "id": "e0626490"
      },
      "outputs": [],
      "source": [
        "ARABIZI_FILE = \"2-class-sentiment-arabizi.csv\"\n",
        "# csvfile = pd.read_csv(\"https://raw.githubusercontent.com/harmanani/AAI614/refs/heads/main/Week%208/2-class-sentiment-arabizi.csv\")\n",
        "# ARABIZI_FILE=csvfile"
      ]
    },
    {
      "cell_type": "markdown",
      "id": "7ee4f7f3",
      "metadata": {
        "id": "7ee4f7f3"
      },
      "source": [
        "As you can see, each data point is composed of a tweet, a sentiment label, and a highlight.  The highlight will not be used in this code."
      ]
    },
    {
      "cell_type": "markdown",
      "id": "485c838f",
      "metadata": {
        "id": "485c838f"
      },
      "source": [
        "## Defining useful global variables\n",
        "\n",
        "Next you will define some global variables that will be used throughout the assignment.\n",
        "\n",
        "- `NUM_WORDS`: The maximum number of words to keep, based on word frequency. Defaults to 2000.\n",
        "\n",
        "\n",
        "- `EMBEDDING_DIM`: Dimension of the dense embedding, will be used in the embedding layer of the model. Defaults to 16.\n",
        "\n",
        "\n",
        "- `MAXLEN`: Maximum length of all sequences. Defaults to 120.\n",
        "\n",
        "\n",
        "- `PADDING`: Padding strategy (pad either before or after each sequence.). Defaults to 'post'.\n",
        "\n",
        "\n",
        "- `OOV_TOKEN`: Token to replace out-of-vocabulary words during text_to_sequence calls. Defaults to \"\\<OOV>\".\n",
        "\n",
        "    \n",
        "- `TRAINING_SPLIT`: Proportion of data used for training. Defaults to 0.8\n",
        "\n",
        "**For now leave them unchanged but after submitting your assignment for grading you are encouraged to come back here and play with these parameters to see the impact they have in the classification process**"
      ]
    },
    {
      "cell_type": "code",
      "execution_count": 3,
      "id": "BuGbpXEEsTiw",
      "metadata": {
        "id": "BuGbpXEEsTiw"
      },
      "outputs": [],
      "source": [
        "NUM_WORDS = 2000\n",
        "EMBEDDING_DIM = 64\n",
        "PADDING = 'post'\n",
        "OOV_TOKEN = '<OOV>'\n",
        "TRAINING_SPLIT = 0.8\n",
        "MAXLEN = 120"
      ]
    },
    {
      "cell_type": "markdown",
      "id": "f25e9364",
      "metadata": {
        "id": "f25e9364"
      },
      "source": [
        "## Loading and pre-processing the data\n",
        "\n",
        "Now you should code the functions to remove stopwords from text and to load the data from a csv file.\n",
        "\n",
        "Since you already coded these functions for the previous week, these are provided for you."
      ]
    },
    {
      "cell_type": "code",
      "execution_count": 4,
      "id": "8039b079",
      "metadata": {
        "id": "8039b079"
      },
      "outputs": [],
      "source": [
        "def remove_stopwords(sentence):\n",
        "    # List of stopwords\n",
        "    stopwords = ['chu', 'chou', 'hal', 'chou', 'fikeee', 'eh', 'ma', '3a', '3am', '3an', '3ana', '3endon', '3m', 'aal', '3al','3ala','al', 'ana',\n",
        "                 'b', 'bas', 'bel', 'bi', 'chi', 'el', 'ele', 'enn', 'enno', 'eno', 'mch', '3layki', '3layon',\n",
        "                 'enta', 'enteh', 'eza', 'fi', 'fik', 'fina', 'fine', 'fiya', 'fiye', 'wlik', 'shi',\n",
        "                 'hal', 'hayda', 'hek', 'inta', 'iza', 'kaza', 'kel', 'kente', 'kif',\n",
        "                 'kint', 'kinte', 'l', 'la', 'la2na', 'lal', 'li', 'ma3', 'ma3a', 'ma3ak',\n",
        "                 'ma3e', 'ma3ekk', 'ma3i', 'ma3ik', 'ma3ke', 'ma3na', 'ma3o', 'men', 'mn',\n",
        "                 'n7na', 'shu', 'tab', 'tayeb', 'w', 'wlek', 'ya', 'ya3ne', 'yala', 'yalle']\n",
        "\n",
        "    # Sentence converted to lowercase-only\n",
        "    sentence = sentence.lower()\n",
        "\n",
        "    words = sentence.split()\n",
        "    no_words = [w for w in words if w not in stopwords]\n",
        "    sentence = \" \".join(no_words)\n",
        "\n",
        "    return sentence"
      ]
    },
    {
      "cell_type": "code",
      "execution_count": 5,
      "id": "9KAaSs1QSBJf",
      "metadata": {
        "id": "9KAaSs1QSBJf",
        "colab": {
          "base_uri": "https://localhost:8080/"
        },
        "outputId": "b9c43501-b2ea-45b2-ad5c-395ad3b8247c"
      },
      "outputs": [
        {
          "output_type": "stream",
          "name": "stderr",
          "text": [
            "<>:11: SyntaxWarning: invalid escape sequence '\\['\n",
            "<>:11: SyntaxWarning: invalid escape sequence '\\['\n",
            "/tmp/ipython-input-1934031976.py:11: SyntaxWarning: invalid escape sequence '\\['\n",
            "  temp = re.sub('\\[.*?\\]',' ', temp)\n"
          ]
        }
      ],
      "source": [
        "def clean_tweet(tweet):\n",
        "\n",
        "    #if isinstance(tweet, float):\n",
        "    #  return \"\"\n",
        "    temp = tweet.lower()\n",
        "    temp = re.sub(\"'\", \"\", temp) # to avoid removing contractions in english\n",
        "    temp = re.sub(\"@[A-Za-z0-9_]+\",\"\", temp)\n",
        "    temp = re.sub(\"#[A-Za-z0-9_]+\",\"\", temp)\n",
        "    temp = re.sub(r'http\\S+', '', temp)\n",
        "    temp = re.sub('[()!?]', ' ', temp)\n",
        "    temp = re.sub('\\[.*?\\]',' ', temp)\n",
        "    temp = re.sub(\"[^a-z0-9]\",\" \", temp)\n",
        "    temp = re.sub(r\"h[ha]{3,}\", \"hahaha\", temp)\n",
        "    temp = re.sub(r\"lo{1,}l\", \"lol\", temp)\n",
        "    return temp"
      ]
    },
    {
      "cell_type": "code",
      "execution_count": 6,
      "id": "Sfz4oZ08SD2a",
      "metadata": {
        "id": "Sfz4oZ08SD2a"
      },
      "outputs": [],
      "source": [
        "def parse_data_from_file(filename):\n",
        "    sentences = []\n",
        "    sentiments_labels = []\n",
        "    emotions_labels = []\n",
        "    with open(filename, 'r') as csvfile:\n",
        "        reader = csv.reader(csvfile, delimiter=',')\n",
        "        next(reader)\n",
        "        for row in reader:\n",
        "            sentiments_labels.append(row[1])\n",
        "            emotions_labels.append(row[2])\n",
        "            sentence = row[0]\n",
        "            sentence = remove_stopwords(sentence)\n",
        "            sentence = clean_tweet(sentence)\n",
        "            sentences.append(sentence)\n",
        "\n",
        "    return sentences, sentiments_labels, emotions_labels"
      ]
    },
    {
      "cell_type": "code",
      "execution_count": 7,
      "id": "5565105f",
      "metadata": {
        "colab": {
          "base_uri": "https://localhost:8080/"
        },
        "id": "5565105f",
        "outputId": "c266c660-4644-4141-b95f-a52a5aa5619f"
      },
      "outputs": [
        {
          "output_type": "stream",
          "name": "stdout",
          "text": [
            "There are 1200 sentences in the dataset.\n",
            "\n",
            "First sentence has 3 words (after removing stopwords).\n",
            "\n",
            "First sentence has the following words: ['chaareh', 'ktir', 'astaze'].\n",
            "\n",
            "There are 1200 emotions labels in the dataset.\n",
            "The first 5 labels are ['None', 'Bullying', 'None', 'None', 'None']\n",
            "\n",
            "There are 1200 sentiment labels in the dataset.\n",
            "\n",
            "The first 5 labels are ['Positive', 'Negative', 'Positive', 'Positive', 'Positive']\n"
          ]
        }
      ],
      "source": [
        "# Test the functions\n",
        "sentences, sentiments_labels,  emotions_labels = parse_data_from_file(ARABIZI_FILE)\n",
        "\n",
        "# Shuffle the lists\n",
        "temp = list(zip(sentences, sentiments_labels, emotions_labels))\n",
        "shuffle(temp)\n",
        "\n",
        "res1, res2, res3 = zip(*temp)\n",
        "sentences, sentiments_labels,  emotions_labels= list(res1), list(res2), list(res3)\n",
        "\n",
        "print(f\"There are {len(sentences)} sentences in the dataset.\\n\")\n",
        "print(f\"First sentence has {len(sentences[0].split())} words (after removing stopwords).\\n\")\n",
        "print(f\"First sentence has the following words: {sentences[0].split()}.\\n\")\n",
        "print(f\"There are {len(emotions_labels)} emotions labels in the dataset.\")\n",
        "print(f\"The first 5 labels are {emotions_labels[:5]}\\n\")\n",
        "print(f\"There are {len(sentiments_labels)} sentiment labels in the dataset.\\n\")\n",
        "print(f\"The first 5 labels are {sentiments_labels[:5]}\")"
      ]
    },
    {
      "cell_type": "markdown",
      "id": "011b39db",
      "metadata": {
        "id": "011b39db"
      },
      "source": [
        "## Training - Validation Split\n",
        "\n",
        "`train_val_split`, which given the list of sentences, the list of labels and the proportion of data for the training set, returns the training and validation sentences and labels:"
      ]
    },
    {
      "cell_type": "code",
      "execution_count": 8,
      "id": "9ce4e6fc",
      "metadata": {
        "id": "9ce4e6fc"
      },
      "outputs": [],
      "source": [
        "def train_val_split(sentences, labels, training_split):\n",
        "\n",
        "    # Compute the number of sentences that will be used for training (should be an integer)\n",
        "    train_size = int(len(sentences) * training_split) # YOUR CODE HERE\n",
        "\n",
        "    # Split the sentences and labels into train/validation splits\n",
        "    train_sentences = sentences[:train_size]\n",
        "    train_labels = labels[:train_size]\n",
        "\n",
        "    validation_sentences = sentences[train_size:]\n",
        "    validation_labels = labels[train_size:]\n",
        "\n",
        "    return train_sentences, validation_sentences, train_labels, validation_labels"
      ]
    },
    {
      "cell_type": "code",
      "execution_count": 9,
      "id": "04c9c0f9",
      "metadata": {
        "colab": {
          "base_uri": "https://localhost:8080/"
        },
        "id": "04c9c0f9",
        "outputId": "6aa57cb2-2ca3-4fba-d40c-51c2ea30cb27"
      },
      "outputs": [
        {
          "output_type": "stream",
          "name": "stdout",
          "text": [
            "The longest tweet is 256 characters long!\n",
            "\n",
            "There are 960 sentences for training.\n",
            "There are 960 labels for training.\n",
            "\n",
            "There are 240 sentences for validation.\n",
            "There are 240 labels for validation.\n"
          ]
        }
      ],
      "source": [
        "train_sentences, val_sentences, train_labels, val_labels = train_val_split(sentences, sentiments_labels, TRAINING_SPLIT)\n",
        "\n",
        "# Test your function\n",
        "vocab_size = len(train_sentences)\n",
        "trunc_type='post'\n",
        "padding_type='post'\n",
        "oov_tok = \"<OOV>\"\n",
        "max_length = max([len(x) for x in sentences])\n",
        "MAXLEN = max_length\n",
        "\n",
        "print(f\"The longest tweet is {max_length} characters long!\\n\")\n",
        "print(f\"There are {len(train_sentences)} sentences for training.\")\n",
        "print(f\"There are {len(train_labels)} labels for training.\\n\")\n",
        "print(f\"There are {len(val_sentences)} sentences for validation.\")\n",
        "print(f\"There are {len(val_labels)} labels for validation.\")"
      ]
    },
    {
      "cell_type": "markdown",
      "id": "3ac98dde",
      "metadata": {
        "id": "3ac98dde"
      },
      "source": [
        "## Tokenization - Sequences and padding\n",
        "\n",
        "Now that you have sets for training and validation it is time for you to begin the tokenization process.\n",
        "\n",
        "Begin by completing the `fit_tokenizer` function below. This function should return a [Tokenizer](https://www.tensorflow.org/api_docs/python/tf/keras/preprocessing/text/Tokenizer) that has been fitted to the training sentences."
      ]
    },
    {
      "cell_type": "code",
      "execution_count": 10,
      "id": "2e202298",
      "metadata": {
        "id": "2e202298"
      },
      "outputs": [],
      "source": [
        "def fit_tokenizer(train_sentences, num_words, oov_token):\n",
        "\n",
        "    ### START CODE HERE\n",
        "\n",
        "    vocab_size = len(train_sentences)\n",
        "    trunc_type='post'\n",
        "    padding_type='post'\n",
        "    oov_tok = \"<OOV>\"\n",
        "    max_length = 120\n",
        "\n",
        "    # Instantiate the Tokenizer class, passing in the correct values for num_words and oov_token\n",
        "    tokenizer = Tokenizer(num_words=num_words, oov_token=oov_tok)\n",
        "\n",
        "    # Fit the tokenizer to the training sentences\n",
        "\n",
        "    # Generate the word index dictionary\n",
        "    tokenizer.fit_on_texts(train_sentences)\n",
        "    word_index = tokenizer.word_index\n",
        "\n",
        "\n",
        "    ### END CODE HERE\n",
        "\n",
        "    return tokenizer"
      ]
    },
    {
      "cell_type": "code",
      "execution_count": 11,
      "id": "82caa2fa",
      "metadata": {
        "colab": {
          "base_uri": "https://localhost:8080/"
        },
        "id": "82caa2fa",
        "outputId": "057e51ca-cc0f-4d0f-f65d-f05d31cf49c5"
      },
      "outputs": [
        {
          "output_type": "stream",
          "name": "stdout",
          "text": [
            "Vocabulary contains 3946 words\n",
            "\n",
            "<OOV> token included in vocabulary\n"
          ]
        }
      ],
      "source": [
        "# Test your function\n",
        "tokenizer = fit_tokenizer(train_sentences, NUM_WORDS, OOV_TOKEN)\n",
        "word_index = tokenizer.word_index\n",
        "\n",
        "print(f\"Vocabulary contains {len(word_index)} words\\n\")\n",
        "print(\"<OOV> token included in vocabulary\" if \"<OOV>\" in word_index else \"<OOV> token NOT included in vocabulary\")"
      ]
    },
    {
      "cell_type": "markdown",
      "id": "0450b0d6",
      "metadata": {
        "id": "0450b0d6"
      },
      "source": [
        "Now that the tokenizer has been fitted to the training data, you need a function that will convert each text data point into its padded sequence representation, for this complete the `seq_and_pad` function below:"
      ]
    },
    {
      "cell_type": "code",
      "execution_count": 12,
      "id": "9d19335a",
      "metadata": {
        "id": "9d19335a"
      },
      "outputs": [],
      "source": [
        "def seq_and_pad(sentences, tokenizer, padding, maxlen):\n",
        "\n",
        "    ### START CODE HERE\n",
        "    trunc_type='post'\n",
        "\n",
        "    # Convert sentences to sequences\n",
        "    sequences = tokenizer.texts_to_sequences(sentences)\n",
        "\n",
        "    # Pad the sequences using the correct padding and maxlen\n",
        "    padded_sequences = pad_sequences(sequences, maxlen=maxlen, padding=padding, truncating=trunc_type)\n",
        "\n",
        "    ### END CODE HERE\n",
        "\n",
        "    return padded_sequences"
      ]
    },
    {
      "cell_type": "code",
      "execution_count": 13,
      "id": "5339bed7",
      "metadata": {
        "colab": {
          "base_uri": "https://localhost:8080/"
        },
        "id": "5339bed7",
        "outputId": "a6ecc5a0-130c-42bc-c50c-f6bd7893d744"
      },
      "outputs": [
        {
          "output_type": "stream",
          "name": "stdout",
          "text": [
            "Padded training sequences have shape: (960, 256)\n",
            "\n",
            "Padded validation sequences have shape: (240, 256)\n"
          ]
        }
      ],
      "source": [
        "train_padded_seq = seq_and_pad(train_sentences, tokenizer, PADDING, MAXLEN)\n",
        "val_padded_seq = seq_and_pad(val_sentences, tokenizer, PADDING, MAXLEN)\n",
        "\n",
        "print(f\"Padded training sequences have shape: {train_padded_seq.shape}\\n\")\n",
        "print(f\"Padded validation sequences have shape: {val_padded_seq.shape}\")"
      ]
    },
    {
      "cell_type": "markdown",
      "id": "0599d0dc",
      "metadata": {
        "id": "0599d0dc"
      },
      "source": [
        "Finally you need to tokenize the labels. For this complete the `tokenize_labels` function below.\n",
        "\n",
        "A couple of things to note:\n",
        "- You should fit the tokenizer to all the labels to avoid the case of a particular label not being present in the validation set. Since you are dealing with labels there should never be an OOV label.\n",
        "\n",
        "\n",
        "- In the previous function you used the `pad_sequences` function which returns numpy arrays. Here you will not be using it since you don't need to pad the labels so you need to make the conversion to numpy arrays yourself.\n",
        "\n",
        "\n",
        "- The argument `split_labels` refers to the labels of a particular split (train or validation). This is because the function should work independently of the split being used.\n",
        "\n",
        "\n",
        "- Using Keras' Tokenizer yields values that start at 1 rather than at 0. This will present a problem when training since Keras usually expects the labels to start at 0. To work around this issue you could use an extra neuron in the last layer of your model. However this approach is rather hacky and not very clear. Instead you will substract 1 from every value of the labels that the function returns. Remember that when using numpy arrays you can simply do something like `np.array - 1` to accomplish this since numpy allows for vectorized operations."
      ]
    },
    {
      "cell_type": "code",
      "execution_count": 14,
      "id": "ac9156a2",
      "metadata": {
        "id": "ac9156a2"
      },
      "outputs": [],
      "source": [
        "def tokenize_labels(all_labels, split_labels):\n",
        "\n",
        "    # Instantiate the Tokenizer (no additional arguments needed)\n",
        "    label_tokenizer = Tokenizer()\n",
        "\n",
        "    # Fit the tokenizer on all the labels\n",
        "    label_tokenizer.fit_on_texts(all_labels)\n",
        "\n",
        "    # Convert labels to sequences\n",
        "    label_seq = label_tokenizer.texts_to_sequences(split_labels)\n",
        "\n",
        "    # Convert sequences to a numpy array. Don't forget to substact 1 from every entry in the array!\n",
        "    label_seq_np = np.array(label_seq)-1\n",
        "\n",
        "    return label_seq_np"
      ]
    },
    {
      "cell_type": "code",
      "execution_count": 15,
      "id": "97b911a9",
      "metadata": {
        "colab": {
          "base_uri": "https://localhost:8080/"
        },
        "id": "97b911a9",
        "outputId": "4a889f30-404d-42eb-db41-2f0c1ce1b15f"
      },
      "outputs": [
        {
          "output_type": "stream",
          "name": "stdout",
          "text": [
            "First 5 labels of the training set should look like this:\n",
            "[[0]\n",
            " [1]\n",
            " [0]\n",
            " [0]\n",
            " [0]]\n",
            "\n",
            "First 5 labels of the validation set should look like this:\n",
            "[[1]\n",
            " [0]\n",
            " [0]\n",
            " [1]\n",
            " [1]]\n",
            "\n",
            "Tokenized labels of the training set have shape: (960, 1)\n",
            "\n",
            "Tokenized labels of the validation set have shape: (240, 1)\n",
            "\n"
          ]
        }
      ],
      "source": [
        "train_label_seq = tokenize_labels(sentiments_labels, train_labels)\n",
        "val_label_seq = tokenize_labels(sentiments_labels, val_labels)\n",
        "\n",
        "print(f\"First 5 labels of the training set should look like this:\\n{train_label_seq[:5]}\\n\")\n",
        "print(f\"First 5 labels of the validation set should look like this:\\n{val_label_seq[:5]}\\n\")\n",
        "print(f\"Tokenized labels of the training set have shape: {train_label_seq.shape}\\n\")\n",
        "print(f\"Tokenized labels of the validation set have shape: {val_label_seq.shape}\\n\")"
      ]
    },
    {
      "cell_type": "markdown",
      "id": "409a3ba2",
      "metadata": {
        "id": "409a3ba2"
      },
      "source": [
        "## Selecting the model for text classification\n",
        "\n",
        "Now that the data is ready to be fed a Neural Network it is time for you to define the model that will classify each text as being part of a certain category.\n",
        "\n",
        "For this complete the `create_model` below.\n",
        "\n",
        "A couple of things to keep in mind:\n",
        "\n",
        "- Notice that this function has three parameters, all of which are meant to be passed to an [Embedding](https://www.tensorflow.org/api_docs/python/tf/keras/layers/Embedding) layer, which is what you will probably use as a first layer for your model.\n",
        "\n",
        "\n",
        "- The last layer should be a Dense layer with 5 units (since there are 5 categories) with a softmax activation.\n",
        "\n",
        "\n",
        "- You should also compile your model using an appropiate loss function and optimizer.\n",
        "\n",
        "\n",
        "- You can use any architecture you want but keep in mind that this problem doesn't need many layers to be solved successfully. You don't need any layers beside Embedding, [GlobalAveragePooling1D](https://www.tensorflow.org/api_docs/python/tf/keras/layers/GlobalAveragePooling1D) and Dense layers but feel free to try out different architectures."
      ]
    },
    {
      "cell_type": "code",
      "source": [
        "from sklearn.metrics import accuracy_score, f1_score\n",
        "from pathlib import Path\n",
        "\n",
        "NUM_WORDS     = 6000\n",
        "EMBEDDING_DIM = 200\n",
        "BATCH_SIZE    = 256\n",
        "NUM_EPOCHS    = 200\n",
        "PATIENCE_ES   = 5\n",
        "\n",
        "\n",
        "MODELS_DIR = Path(\"./models\")\n",
        "MODELS_DIR.mkdir(parents=True, exist_ok=True)"
      ],
      "metadata": {
        "id": "b9X4S1S06ezZ"
      },
      "id": "b9X4S1S06ezZ",
      "execution_count": 28,
      "outputs": []
    },
    {
      "cell_type": "code",
      "execution_count": 29,
      "id": "777e43f4",
      "metadata": {
        "id": "777e43f4"
      },
      "outputs": [],
      "source": [
        "# Actual Model.  Can you replace this part? With what?\n",
        "\n",
        "def create_model(num_words, embedding_dim, maxlen):\n",
        "\n",
        "    #tf.random.set_seed(123)\n",
        "\n",
        "    ### START CODE HERE\n",
        "\n",
        "    lstm1_dim = 400\n",
        "    lstm2_dim = 200\n",
        "    lstm3_dim = 100\n",
        "    dense1_dim = 400\n",
        "    dense2_dim = 100\n",
        "\n",
        "    model = tf.keras.Sequential([\n",
        "        tf.keras.layers.Embedding(num_words+1, embedding_dim, input_length=maxlen),\n",
        "        tf.keras.layers.Dropout(0.3),\n",
        "        tf.keras.layers.Bidirectional(tf.keras.layers.LSTM(lstm1_dim, return_sequences=True)),\n",
        "        tf.keras.layers.Dropout(0.3),\n",
        "        tf.keras.layers.Bidirectional(tf.keras.layers.LSTM(lstm3_dim)),\n",
        "        tf.keras.layers.Dropout(0.3),\n",
        "        tf.keras.layers.Dense(dense1_dim, activation='relu'),\n",
        "        #tf.keras.layers.Dropout(0.2),\n",
        "        tf.keras.layers.Dense(300, activation='relu'),\n",
        "        #tf.keras.layers.Dropout(0.2),\n",
        "        tf.keras.layers.Dense(dense2_dim, activation='relu'),\n",
        "        #tf.keras.layers.Dropout(0.2),\n",
        "        tf.keras.layers.Dense(1, activation='sigmoid')\n",
        "    ])\n",
        "\n",
        "    model.compile(loss='binary_crossentropy',optimizer='adam', metrics=['accuracy'])\n",
        "\n",
        "    model.summary()\n",
        "\n",
        "    return model\n",
        "def build_biLSTM(num_words, embedding_dim, maxlen):\n",
        "    lstm1_dim = 400\n",
        "    lstm3_dim = 100\n",
        "    dense1_dim = 400\n",
        "    dense2_dim = 100\n",
        "    model = tf.keras.Sequential([\n",
        "        tf.keras.layers.Embedding(num_words+1, embedding_dim, input_length=maxlen),\n",
        "        tf.keras.layers.Dropout(0.3),\n",
        "        tf.keras.layers.Bidirectional(tf.keras.layers.LSTM(lstm1_dim, return_sequences=True)),\n",
        "        tf.keras.layers.Dropout(0.3),\n",
        "        tf.keras.layers.Bidirectional(tf.keras.layers.LSTM(lstm3_dim)),\n",
        "        tf.keras.layers.Dropout(0.3),\n",
        "        tf.keras.layers.Dense(dense1_dim, activation='relu'),\n",
        "        tf.keras.layers.Dense(300, activation='relu'),\n",
        "        tf.keras.layers.Dense(dense2_dim, activation='relu'),\n",
        "        tf.keras.layers.Dense(1, activation='sigmoid')\n",
        "    ])\n",
        "    model.compile(loss='binary_crossentropy', optimizer='adam', metrics=['accuracy'])\n",
        "    return model\n",
        "def build_biGRU(num_words, embedding_dim, maxlen):\n",
        "    model = tf.keras.Sequential([\n",
        "        tf.keras.layers.Embedding(num_words+1, embedding_dim, input_length=maxlen),\n",
        "        tf.keras.layers.SpatialDropout1D(0.2),\n",
        "        tf.keras.layers.Bidirectional(tf.keras.layers.GRU(192, return_sequences=True)),\n",
        "        tf.keras.layers.Bidirectional(tf.keras.layers.GRU(128)),\n",
        "        tf.keras.layers.Dropout(0.4),\n",
        "        tf.keras.layers.Dense(256, activation='relu'),\n",
        "        tf.keras.layers.Dropout(0.3),\n",
        "        tf.keras.layers.Dense(1, activation='sigmoid')\n",
        "    ])\n",
        "    model.compile(loss='binary_crossentropy', optimizer='adam', metrics=['accuracy'])\n",
        "    return model\n"
      ]
    },
    {
      "cell_type": "code",
      "source": [
        "MODEL_BUILDERS = {\n",
        "    \"biLSTM\":   lambda: build_biLSTM(NUM_WORDS, EMBEDDING_DIM, MAXLEN),\n",
        "    \"biGRU\":    lambda: build_biGRU(NUM_WORDS, EMBEDDING_DIM, MAXLEN),\n",
        "}"
      ],
      "metadata": {
        "id": "T2rMbD7c5OeH"
      },
      "id": "T2rMbD7c5OeH",
      "execution_count": 30,
      "outputs": []
    },
    {
      "cell_type": "code",
      "execution_count": 31,
      "id": "528697fa",
      "metadata": {
        "id": "528697fa"
      },
      "outputs": [],
      "source": [
        "\n",
        "def make_callbacks(name):\n",
        "    ckpt_path = MODELS_DIR / f\"{name}.keras\"\n",
        "    callbacks = [\n",
        "        tf.keras.callbacks.EarlyStopping(monitor='val_loss', patience=PATIENCE_ES, restore_best_weights=True),\n",
        "        tf.keras.callbacks.ModelCheckpoint(filepath=str(ckpt_path), monitor='val_accuracy',\n",
        "                                           mode='max', save_best_only=True, save_weights_only=False)\n",
        "    ]\n",
        "    return callbacks\n",
        "def train_one(name, model, X_tr, y_tr, X_val, y_val):\n",
        "    history = model.fit(\n",
        "        X_tr, y_tr,\n",
        "        epochs=NUM_EPOCHS,\n",
        "        batch_size=BATCH_SIZE,\n",
        "        validation_data=(X_val, y_val),\n",
        "        callbacks=make_callbacks(name),\n",
        "        verbose=1\n",
        "    )\n",
        "    # Best weights are already restored via EarlyStopping(restore_best_weights=True)\n",
        "    # Still load checkpoint to be 100% aligned with best val_accuracy\n",
        "    best_path = MODELS_DIR / f\"{name}.keras\"\n",
        "    if best_path.exists():\n",
        "        model = tf.keras.models.load_model(best_path)\n",
        "\n",
        "    # Metrics on validation\n",
        "    val_pred_prob = model.predict(X_val, batch_size=BATCH_SIZE, verbose=0).ravel()\n",
        "    val_pred = (val_pred_prob >= 0.5).astype(int)\n",
        "    acc = accuracy_score(y_val, val_pred)\n",
        "    f1  = f1_score(y_val, val_pred, average=\"macro\")\n",
        "\n",
        "    return model, history, {\"val_accuracy\": acc, \"val_f1_macro\": f1}\n",
        "def train_all(models_dict, X_tr, y_tr, X_val, y_val):\n",
        "    trained = {}\n",
        "    histories = {}\n",
        "    results = {}\n",
        "    for name, builder in models_dict.items():\n",
        "        print(f\"\\n===== Training {name} =====\")\n",
        "        model = builder()\n",
        "        model.summary()\n",
        "        model, hist, res = train_one(name, model, X_tr, y_tr, X_val, y_val)\n",
        "        trained[name] = model\n",
        "        histories[name] = hist\n",
        "        results[name] = res\n",
        "        print(f\"--> {name} results:\", res)\n",
        "    return trained, histories, results\n",
        "\n",
        "def plot_bar_results(results):\n",
        "    names = list(results.keys())\n",
        "    accs  = [results[n][\"val_accuracy\"] for n in names]\n",
        "    f1s   = [results[n][\"val_f1_macro\"] for n in names]\n",
        "\n",
        "    plt.figure(figsize=(8,5))\n",
        "    x = np.arange(len(names))\n",
        "    w = 0.35\n",
        "    plt.bar(x - w/2, accs, width=w, label=\"Val Accuracy\")\n",
        "    plt.bar(x + w/2, f1s,  width=w, label=\"Val F1 (macro)\")\n",
        "    plt.xticks(x, names, rotation=15)\n",
        "    plt.ylim(0, 1.0)\n",
        "    plt.ylabel(\"Score\")\n",
        "    plt.title(\"Validation Accuracy & F1 (macro)\")\n",
        "    plt.legend()\n",
        "    plt.grid(axis='y')\n",
        "    plt.show()\n",
        "def plot_histories(histories, metric=\"val_accuracy\"):\n",
        "    plt.figure(figsize=(8,5))\n",
        "    for name, hist in histories.items():\n",
        "        y = hist.history.get(metric, None)\n",
        "        if y is not None:\n",
        "            plt.plot(y, label=name)\n",
        "    plt.xlabel(\"Epoch\")\n",
        "    plt.ylabel(metric)\n",
        "    plt.title(f\"{metric} per epoch\")\n",
        "    plt.legend()\n",
        "    plt.grid(True)\n",
        "    plt.show()\n",
        "\n"
      ]
    },
    {
      "cell_type": "code",
      "source": [
        "trained_models, histories, results = train_all(\n",
        "    MODEL_BUILDERS,\n",
        "    train_padded_seq, train_label_seq,\n",
        "    val_padded_seq,   val_label_seq\n",
        ")"
      ],
      "metadata": {
        "colab": {
          "base_uri": "https://localhost:8080/",
          "height": 1000
        },
        "id": "XRzziTXI6KPn",
        "outputId": "79ec5bb8-f55d-4d03-87a2-e45c5f087bee"
      },
      "id": "XRzziTXI6KPn",
      "execution_count": 32,
      "outputs": [
        {
          "output_type": "stream",
          "name": "stdout",
          "text": [
            "\n",
            "===== Training biLSTM =====\n"
          ]
        },
        {
          "output_type": "stream",
          "name": "stderr",
          "text": [
            "/usr/local/lib/python3.12/dist-packages/keras/src/layers/core/embedding.py:97: UserWarning: Argument `input_length` is deprecated. Just remove it.\n",
            "  warnings.warn(\n"
          ]
        },
        {
          "output_type": "display_data",
          "data": {
            "text/plain": [
              "\u001b[1mModel: \"sequential_2\"\u001b[0m\n"
            ],
            "text/html": [
              "<pre style=\"white-space:pre;overflow-x:auto;line-height:normal;font-family:Menlo,'DejaVu Sans Mono',consolas,'Courier New',monospace\"><span style=\"font-weight: bold\">Model: \"sequential_2\"</span>\n",
              "</pre>\n"
            ]
          },
          "metadata": {}
        },
        {
          "output_type": "display_data",
          "data": {
            "text/plain": [
              "┏━━━━━━━━━━━━━━━━━━━━━━━━━━━━━━━━━┳━━━━━━━━━━━━━━━━━━━━━━━━┳━━━━━━━━━━━━━━━┓\n",
              "┃\u001b[1m \u001b[0m\u001b[1mLayer (type)                   \u001b[0m\u001b[1m \u001b[0m┃\u001b[1m \u001b[0m\u001b[1mOutput Shape          \u001b[0m\u001b[1m \u001b[0m┃\u001b[1m \u001b[0m\u001b[1m      Param #\u001b[0m\u001b[1m \u001b[0m┃\n",
              "┡━━━━━━━━━━━━━━━━━━━━━━━━━━━━━━━━━╇━━━━━━━━━━━━━━━━━━━━━━━━╇━━━━━━━━━━━━━━━┩\n",
              "│ embedding_2 (\u001b[38;5;33mEmbedding\u001b[0m)         │ ?                      │   \u001b[38;5;34m0\u001b[0m (unbuilt) │\n",
              "├─────────────────────────────────┼────────────────────────┼───────────────┤\n",
              "│ dropout_6 (\u001b[38;5;33mDropout\u001b[0m)             │ ?                      │             \u001b[38;5;34m0\u001b[0m │\n",
              "├─────────────────────────────────┼────────────────────────┼───────────────┤\n",
              "│ bidirectional_4 (\u001b[38;5;33mBidirectional\u001b[0m) │ ?                      │   \u001b[38;5;34m0\u001b[0m (unbuilt) │\n",
              "├─────────────────────────────────┼────────────────────────┼───────────────┤\n",
              "│ dropout_7 (\u001b[38;5;33mDropout\u001b[0m)             │ ?                      │             \u001b[38;5;34m0\u001b[0m │\n",
              "├─────────────────────────────────┼────────────────────────┼───────────────┤\n",
              "│ bidirectional_5 (\u001b[38;5;33mBidirectional\u001b[0m) │ ?                      │   \u001b[38;5;34m0\u001b[0m (unbuilt) │\n",
              "├─────────────────────────────────┼────────────────────────┼───────────────┤\n",
              "│ dropout_8 (\u001b[38;5;33mDropout\u001b[0m)             │ ?                      │             \u001b[38;5;34m0\u001b[0m │\n",
              "├─────────────────────────────────┼────────────────────────┼───────────────┤\n",
              "│ dense_8 (\u001b[38;5;33mDense\u001b[0m)                 │ ?                      │   \u001b[38;5;34m0\u001b[0m (unbuilt) │\n",
              "├─────────────────────────────────┼────────────────────────┼───────────────┤\n",
              "│ dense_9 (\u001b[38;5;33mDense\u001b[0m)                 │ ?                      │   \u001b[38;5;34m0\u001b[0m (unbuilt) │\n",
              "├─────────────────────────────────┼────────────────────────┼───────────────┤\n",
              "│ dense_10 (\u001b[38;5;33mDense\u001b[0m)                │ ?                      │   \u001b[38;5;34m0\u001b[0m (unbuilt) │\n",
              "├─────────────────────────────────┼────────────────────────┼───────────────┤\n",
              "│ dense_11 (\u001b[38;5;33mDense\u001b[0m)                │ ?                      │   \u001b[38;5;34m0\u001b[0m (unbuilt) │\n",
              "└─────────────────────────────────┴────────────────────────┴───────────────┘\n"
            ],
            "text/html": [
              "<pre style=\"white-space:pre;overflow-x:auto;line-height:normal;font-family:Menlo,'DejaVu Sans Mono',consolas,'Courier New',monospace\">┏━━━━━━━━━━━━━━━━━━━━━━━━━━━━━━━━━┳━━━━━━━━━━━━━━━━━━━━━━━━┳━━━━━━━━━━━━━━━┓\n",
              "┃<span style=\"font-weight: bold\"> Layer (type)                    </span>┃<span style=\"font-weight: bold\"> Output Shape           </span>┃<span style=\"font-weight: bold\">       Param # </span>┃\n",
              "┡━━━━━━━━━━━━━━━━━━━━━━━━━━━━━━━━━╇━━━━━━━━━━━━━━━━━━━━━━━━╇━━━━━━━━━━━━━━━┩\n",
              "│ embedding_2 (<span style=\"color: #0087ff; text-decoration-color: #0087ff\">Embedding</span>)         │ ?                      │   <span style=\"color: #00af00; text-decoration-color: #00af00\">0</span> (unbuilt) │\n",
              "├─────────────────────────────────┼────────────────────────┼───────────────┤\n",
              "│ dropout_6 (<span style=\"color: #0087ff; text-decoration-color: #0087ff\">Dropout</span>)             │ ?                      │             <span style=\"color: #00af00; text-decoration-color: #00af00\">0</span> │\n",
              "├─────────────────────────────────┼────────────────────────┼───────────────┤\n",
              "│ bidirectional_4 (<span style=\"color: #0087ff; text-decoration-color: #0087ff\">Bidirectional</span>) │ ?                      │   <span style=\"color: #00af00; text-decoration-color: #00af00\">0</span> (unbuilt) │\n",
              "├─────────────────────────────────┼────────────────────────┼───────────────┤\n",
              "│ dropout_7 (<span style=\"color: #0087ff; text-decoration-color: #0087ff\">Dropout</span>)             │ ?                      │             <span style=\"color: #00af00; text-decoration-color: #00af00\">0</span> │\n",
              "├─────────────────────────────────┼────────────────────────┼───────────────┤\n",
              "│ bidirectional_5 (<span style=\"color: #0087ff; text-decoration-color: #0087ff\">Bidirectional</span>) │ ?                      │   <span style=\"color: #00af00; text-decoration-color: #00af00\">0</span> (unbuilt) │\n",
              "├─────────────────────────────────┼────────────────────────┼───────────────┤\n",
              "│ dropout_8 (<span style=\"color: #0087ff; text-decoration-color: #0087ff\">Dropout</span>)             │ ?                      │             <span style=\"color: #00af00; text-decoration-color: #00af00\">0</span> │\n",
              "├─────────────────────────────────┼────────────────────────┼───────────────┤\n",
              "│ dense_8 (<span style=\"color: #0087ff; text-decoration-color: #0087ff\">Dense</span>)                 │ ?                      │   <span style=\"color: #00af00; text-decoration-color: #00af00\">0</span> (unbuilt) │\n",
              "├─────────────────────────────────┼────────────────────────┼───────────────┤\n",
              "│ dense_9 (<span style=\"color: #0087ff; text-decoration-color: #0087ff\">Dense</span>)                 │ ?                      │   <span style=\"color: #00af00; text-decoration-color: #00af00\">0</span> (unbuilt) │\n",
              "├─────────────────────────────────┼────────────────────────┼───────────────┤\n",
              "│ dense_10 (<span style=\"color: #0087ff; text-decoration-color: #0087ff\">Dense</span>)                │ ?                      │   <span style=\"color: #00af00; text-decoration-color: #00af00\">0</span> (unbuilt) │\n",
              "├─────────────────────────────────┼────────────────────────┼───────────────┤\n",
              "│ dense_11 (<span style=\"color: #0087ff; text-decoration-color: #0087ff\">Dense</span>)                │ ?                      │   <span style=\"color: #00af00; text-decoration-color: #00af00\">0</span> (unbuilt) │\n",
              "└─────────────────────────────────┴────────────────────────┴───────────────┘\n",
              "</pre>\n"
            ]
          },
          "metadata": {}
        },
        {
          "output_type": "display_data",
          "data": {
            "text/plain": [
              "\u001b[1m Total params: \u001b[0m\u001b[38;5;34m0\u001b[0m (0.00 B)\n"
            ],
            "text/html": [
              "<pre style=\"white-space:pre;overflow-x:auto;line-height:normal;font-family:Menlo,'DejaVu Sans Mono',consolas,'Courier New',monospace\"><span style=\"font-weight: bold\"> Total params: </span><span style=\"color: #00af00; text-decoration-color: #00af00\">0</span> (0.00 B)\n",
              "</pre>\n"
            ]
          },
          "metadata": {}
        },
        {
          "output_type": "display_data",
          "data": {
            "text/plain": [
              "\u001b[1m Trainable params: \u001b[0m\u001b[38;5;34m0\u001b[0m (0.00 B)\n"
            ],
            "text/html": [
              "<pre style=\"white-space:pre;overflow-x:auto;line-height:normal;font-family:Menlo,'DejaVu Sans Mono',consolas,'Courier New',monospace\"><span style=\"font-weight: bold\"> Trainable params: </span><span style=\"color: #00af00; text-decoration-color: #00af00\">0</span> (0.00 B)\n",
              "</pre>\n"
            ]
          },
          "metadata": {}
        },
        {
          "output_type": "display_data",
          "data": {
            "text/plain": [
              "\u001b[1m Non-trainable params: \u001b[0m\u001b[38;5;34m0\u001b[0m (0.00 B)\n"
            ],
            "text/html": [
              "<pre style=\"white-space:pre;overflow-x:auto;line-height:normal;font-family:Menlo,'DejaVu Sans Mono',consolas,'Courier New',monospace\"><span style=\"font-weight: bold\"> Non-trainable params: </span><span style=\"color: #00af00; text-decoration-color: #00af00\">0</span> (0.00 B)\n",
              "</pre>\n"
            ]
          },
          "metadata": {}
        },
        {
          "output_type": "stream",
          "name": "stdout",
          "text": [
            "Epoch 1/200\n",
            "\u001b[1m4/4\u001b[0m \u001b[32m━━━━━━━━━━━━━━━━━━━━\u001b[0m\u001b[37m\u001b[0m \u001b[1m9s\u001b[0m 749ms/step - accuracy: 0.5238 - loss: 0.6931 - val_accuracy: 0.5208 - val_loss: 0.6927\n",
            "Epoch 2/200\n",
            "\u001b[1m4/4\u001b[0m \u001b[32m━━━━━━━━━━━━━━━━━━━━\u001b[0m\u001b[37m\u001b[0m \u001b[1m2s\u001b[0m 576ms/step - accuracy: 0.4935 - loss: 0.6937 - val_accuracy: 0.5625 - val_loss: 0.6940\n",
            "Epoch 3/200\n",
            "\u001b[1m4/4\u001b[0m \u001b[32m━━━━━━━━━━━━━━━━━━━━\u001b[0m\u001b[37m\u001b[0m \u001b[1m2s\u001b[0m 550ms/step - accuracy: 0.5737 - loss: 0.6842 - val_accuracy: 0.5208 - val_loss: 0.6958\n",
            "Epoch 4/200\n",
            "\u001b[1m4/4\u001b[0m \u001b[32m━━━━━━━━━━━━━━━━━━━━\u001b[0m\u001b[37m\u001b[0m \u001b[1m2s\u001b[0m 494ms/step - accuracy: 0.6522 - loss: 0.6449 - val_accuracy: 0.5500 - val_loss: 0.7122\n",
            "Epoch 5/200\n",
            "\u001b[1m4/4\u001b[0m \u001b[32m━━━━━━━━━━━━━━━━━━━━\u001b[0m\u001b[37m\u001b[0m \u001b[1m2s\u001b[0m 578ms/step - accuracy: 0.7398 - loss: 0.5449 - val_accuracy: 0.6500 - val_loss: 0.6417\n",
            "Epoch 6/200\n",
            "\u001b[1m4/4\u001b[0m \u001b[32m━━━━━━━━━━━━━━━━━━━━\u001b[0m\u001b[37m\u001b[0m \u001b[1m2s\u001b[0m 497ms/step - accuracy: 0.8198 - loss: 0.4176 - val_accuracy: 0.6250 - val_loss: 0.8199\n",
            "Epoch 7/200\n",
            "\u001b[1m4/4\u001b[0m \u001b[32m━━━━━━━━━━━━━━━━━━━━\u001b[0m\u001b[37m\u001b[0m \u001b[1m2s\u001b[0m 494ms/step - accuracy: 0.8558 - loss: 0.3339 - val_accuracy: 0.6167 - val_loss: 0.7467\n",
            "Epoch 8/200\n",
            "\u001b[1m4/4\u001b[0m \u001b[32m━━━━━━━━━━━━━━━━━━━━\u001b[0m\u001b[37m\u001b[0m \u001b[1m2s\u001b[0m 578ms/step - accuracy: 0.8826 - loss: 0.2834 - val_accuracy: 0.6625 - val_loss: 0.8167\n",
            "Epoch 9/200\n",
            "\u001b[1m4/4\u001b[0m \u001b[32m━━━━━━━━━━━━━━━━━━━━\u001b[0m\u001b[37m\u001b[0m \u001b[1m2s\u001b[0m 557ms/step - accuracy: 0.9210 - loss: 0.2182 - val_accuracy: 0.6083 - val_loss: 1.1812\n",
            "Epoch 10/200\n",
            "\u001b[1m4/4\u001b[0m \u001b[32m━━━━━━━━━━━━━━━━━━━━\u001b[0m\u001b[37m\u001b[0m \u001b[1m2s\u001b[0m 506ms/step - accuracy: 0.9136 - loss: 0.2135 - val_accuracy: 0.6500 - val_loss: 0.9521\n",
            "--> biLSTM results: {'val_accuracy': 0.6625, 'val_f1_macro': 0.6551662971175166}\n",
            "\n",
            "===== Training biGRU =====\n"
          ]
        },
        {
          "output_type": "stream",
          "name": "stderr",
          "text": [
            "/usr/local/lib/python3.12/dist-packages/keras/src/layers/core/embedding.py:97: UserWarning: Argument `input_length` is deprecated. Just remove it.\n",
            "  warnings.warn(\n"
          ]
        },
        {
          "output_type": "display_data",
          "data": {
            "text/plain": [
              "\u001b[1mModel: \"sequential_3\"\u001b[0m\n"
            ],
            "text/html": [
              "<pre style=\"white-space:pre;overflow-x:auto;line-height:normal;font-family:Menlo,'DejaVu Sans Mono',consolas,'Courier New',monospace\"><span style=\"font-weight: bold\">Model: \"sequential_3\"</span>\n",
              "</pre>\n"
            ]
          },
          "metadata": {}
        },
        {
          "output_type": "display_data",
          "data": {
            "text/plain": [
              "┏━━━━━━━━━━━━━━━━━━━━━━━━━━━━━━━━━┳━━━━━━━━━━━━━━━━━━━━━━━━┳━━━━━━━━━━━━━━━┓\n",
              "┃\u001b[1m \u001b[0m\u001b[1mLayer (type)                   \u001b[0m\u001b[1m \u001b[0m┃\u001b[1m \u001b[0m\u001b[1mOutput Shape          \u001b[0m\u001b[1m \u001b[0m┃\u001b[1m \u001b[0m\u001b[1m      Param #\u001b[0m\u001b[1m \u001b[0m┃\n",
              "┡━━━━━━━━━━━━━━━━━━━━━━━━━━━━━━━━━╇━━━━━━━━━━━━━━━━━━━━━━━━╇━━━━━━━━━━━━━━━┩\n",
              "│ embedding_3 (\u001b[38;5;33mEmbedding\u001b[0m)         │ ?                      │   \u001b[38;5;34m0\u001b[0m (unbuilt) │\n",
              "├─────────────────────────────────┼────────────────────────┼───────────────┤\n",
              "│ spatial_dropout1d               │ ?                      │             \u001b[38;5;34m0\u001b[0m │\n",
              "│ (\u001b[38;5;33mSpatialDropout1D\u001b[0m)              │                        │               │\n",
              "├─────────────────────────────────┼────────────────────────┼───────────────┤\n",
              "│ bidirectional_6 (\u001b[38;5;33mBidirectional\u001b[0m) │ ?                      │   \u001b[38;5;34m0\u001b[0m (unbuilt) │\n",
              "├─────────────────────────────────┼────────────────────────┼───────────────┤\n",
              "│ bidirectional_7 (\u001b[38;5;33mBidirectional\u001b[0m) │ ?                      │   \u001b[38;5;34m0\u001b[0m (unbuilt) │\n",
              "├─────────────────────────────────┼────────────────────────┼───────────────┤\n",
              "│ dropout_9 (\u001b[38;5;33mDropout\u001b[0m)             │ ?                      │             \u001b[38;5;34m0\u001b[0m │\n",
              "├─────────────────────────────────┼────────────────────────┼───────────────┤\n",
              "│ dense_12 (\u001b[38;5;33mDense\u001b[0m)                │ ?                      │   \u001b[38;5;34m0\u001b[0m (unbuilt) │\n",
              "├─────────────────────────────────┼────────────────────────┼───────────────┤\n",
              "│ dropout_10 (\u001b[38;5;33mDropout\u001b[0m)            │ ?                      │             \u001b[38;5;34m0\u001b[0m │\n",
              "├─────────────────────────────────┼────────────────────────┼───────────────┤\n",
              "│ dense_13 (\u001b[38;5;33mDense\u001b[0m)                │ ?                      │   \u001b[38;5;34m0\u001b[0m (unbuilt) │\n",
              "└─────────────────────────────────┴────────────────────────┴───────────────┘\n"
            ],
            "text/html": [
              "<pre style=\"white-space:pre;overflow-x:auto;line-height:normal;font-family:Menlo,'DejaVu Sans Mono',consolas,'Courier New',monospace\">┏━━━━━━━━━━━━━━━━━━━━━━━━━━━━━━━━━┳━━━━━━━━━━━━━━━━━━━━━━━━┳━━━━━━━━━━━━━━━┓\n",
              "┃<span style=\"font-weight: bold\"> Layer (type)                    </span>┃<span style=\"font-weight: bold\"> Output Shape           </span>┃<span style=\"font-weight: bold\">       Param # </span>┃\n",
              "┡━━━━━━━━━━━━━━━━━━━━━━━━━━━━━━━━━╇━━━━━━━━━━━━━━━━━━━━━━━━╇━━━━━━━━━━━━━━━┩\n",
              "│ embedding_3 (<span style=\"color: #0087ff; text-decoration-color: #0087ff\">Embedding</span>)         │ ?                      │   <span style=\"color: #00af00; text-decoration-color: #00af00\">0</span> (unbuilt) │\n",
              "├─────────────────────────────────┼────────────────────────┼───────────────┤\n",
              "│ spatial_dropout1d               │ ?                      │             <span style=\"color: #00af00; text-decoration-color: #00af00\">0</span> │\n",
              "│ (<span style=\"color: #0087ff; text-decoration-color: #0087ff\">SpatialDropout1D</span>)              │                        │               │\n",
              "├─────────────────────────────────┼────────────────────────┼───────────────┤\n",
              "│ bidirectional_6 (<span style=\"color: #0087ff; text-decoration-color: #0087ff\">Bidirectional</span>) │ ?                      │   <span style=\"color: #00af00; text-decoration-color: #00af00\">0</span> (unbuilt) │\n",
              "├─────────────────────────────────┼────────────────────────┼───────────────┤\n",
              "│ bidirectional_7 (<span style=\"color: #0087ff; text-decoration-color: #0087ff\">Bidirectional</span>) │ ?                      │   <span style=\"color: #00af00; text-decoration-color: #00af00\">0</span> (unbuilt) │\n",
              "├─────────────────────────────────┼────────────────────────┼───────────────┤\n",
              "│ dropout_9 (<span style=\"color: #0087ff; text-decoration-color: #0087ff\">Dropout</span>)             │ ?                      │             <span style=\"color: #00af00; text-decoration-color: #00af00\">0</span> │\n",
              "├─────────────────────────────────┼────────────────────────┼───────────────┤\n",
              "│ dense_12 (<span style=\"color: #0087ff; text-decoration-color: #0087ff\">Dense</span>)                │ ?                      │   <span style=\"color: #00af00; text-decoration-color: #00af00\">0</span> (unbuilt) │\n",
              "├─────────────────────────────────┼────────────────────────┼───────────────┤\n",
              "│ dropout_10 (<span style=\"color: #0087ff; text-decoration-color: #0087ff\">Dropout</span>)            │ ?                      │             <span style=\"color: #00af00; text-decoration-color: #00af00\">0</span> │\n",
              "├─────────────────────────────────┼────────────────────────┼───────────────┤\n",
              "│ dense_13 (<span style=\"color: #0087ff; text-decoration-color: #0087ff\">Dense</span>)                │ ?                      │   <span style=\"color: #00af00; text-decoration-color: #00af00\">0</span> (unbuilt) │\n",
              "└─────────────────────────────────┴────────────────────────┴───────────────┘\n",
              "</pre>\n"
            ]
          },
          "metadata": {}
        },
        {
          "output_type": "display_data",
          "data": {
            "text/plain": [
              "\u001b[1m Total params: \u001b[0m\u001b[38;5;34m0\u001b[0m (0.00 B)\n"
            ],
            "text/html": [
              "<pre style=\"white-space:pre;overflow-x:auto;line-height:normal;font-family:Menlo,'DejaVu Sans Mono',consolas,'Courier New',monospace\"><span style=\"font-weight: bold\"> Total params: </span><span style=\"color: #00af00; text-decoration-color: #00af00\">0</span> (0.00 B)\n",
              "</pre>\n"
            ]
          },
          "metadata": {}
        },
        {
          "output_type": "display_data",
          "data": {
            "text/plain": [
              "\u001b[1m Trainable params: \u001b[0m\u001b[38;5;34m0\u001b[0m (0.00 B)\n"
            ],
            "text/html": [
              "<pre style=\"white-space:pre;overflow-x:auto;line-height:normal;font-family:Menlo,'DejaVu Sans Mono',consolas,'Courier New',monospace\"><span style=\"font-weight: bold\"> Trainable params: </span><span style=\"color: #00af00; text-decoration-color: #00af00\">0</span> (0.00 B)\n",
              "</pre>\n"
            ]
          },
          "metadata": {}
        },
        {
          "output_type": "display_data",
          "data": {
            "text/plain": [
              "\u001b[1m Non-trainable params: \u001b[0m\u001b[38;5;34m0\u001b[0m (0.00 B)\n"
            ],
            "text/html": [
              "<pre style=\"white-space:pre;overflow-x:auto;line-height:normal;font-family:Menlo,'DejaVu Sans Mono',consolas,'Courier New',monospace\"><span style=\"font-weight: bold\"> Non-trainable params: </span><span style=\"color: #00af00; text-decoration-color: #00af00\">0</span> (0.00 B)\n",
              "</pre>\n"
            ]
          },
          "metadata": {}
        },
        {
          "output_type": "stream",
          "name": "stdout",
          "text": [
            "Epoch 1/200\n",
            "\u001b[1m4/4\u001b[0m \u001b[32m━━━━━━━━━━━━━━━━━━━━\u001b[0m\u001b[37m\u001b[0m \u001b[1m5s\u001b[0m 400ms/step - accuracy: 0.5158 - loss: 0.6935 - val_accuracy: 0.5625 - val_loss: 0.6902\n",
            "Epoch 2/200\n",
            "\u001b[1m4/4\u001b[0m \u001b[32m━━━━━━━━━━━━━━━━━━━━\u001b[0m\u001b[37m\u001b[0m \u001b[1m1s\u001b[0m 202ms/step - accuracy: 0.5858 - loss: 0.6868 - val_accuracy: 0.5583 - val_loss: 0.6881\n",
            "Epoch 3/200\n",
            "\u001b[1m4/4\u001b[0m \u001b[32m━━━━━━━━━━━━━━━━━━━━\u001b[0m\u001b[37m\u001b[0m \u001b[1m1s\u001b[0m 202ms/step - accuracy: 0.6568 - loss: 0.6649 - val_accuracy: 0.5417 - val_loss: 0.6833\n",
            "Epoch 4/200\n",
            "\u001b[1m4/4\u001b[0m \u001b[32m━━━━━━━━━━━━━━━━━━━━\u001b[0m\u001b[37m\u001b[0m \u001b[1m1s\u001b[0m 299ms/step - accuracy: 0.7151 - loss: 0.5927 - val_accuracy: 0.6000 - val_loss: 0.7223\n",
            "Epoch 5/200\n",
            "\u001b[1m4/4\u001b[0m \u001b[32m━━━━━━━━━━━━━━━━━━━━\u001b[0m\u001b[37m\u001b[0m \u001b[1m1s\u001b[0m 210ms/step - accuracy: 0.7890 - loss: 0.4500 - val_accuracy: 0.5625 - val_loss: 0.8996\n",
            "Epoch 6/200\n",
            "\u001b[1m4/4\u001b[0m \u001b[32m━━━━━━━━━━━━━━━━━━━━\u001b[0m\u001b[37m\u001b[0m \u001b[1m1s\u001b[0m 274ms/step - accuracy: 0.8275 - loss: 0.3953 - val_accuracy: 0.6500 - val_loss: 0.7690\n",
            "Epoch 7/200\n",
            "\u001b[1m4/4\u001b[0m \u001b[32m━━━━━━━━━━━━━━━━━━━━\u001b[0m\u001b[37m\u001b[0m \u001b[1m1s\u001b[0m 200ms/step - accuracy: 0.8741 - loss: 0.2889 - val_accuracy: 0.6125 - val_loss: 0.7760\n",
            "Epoch 8/200\n",
            "\u001b[1m4/4\u001b[0m \u001b[32m━━━━━━━━━━━━━━━━━━━━\u001b[0m\u001b[37m\u001b[0m \u001b[1m1s\u001b[0m 199ms/step - accuracy: 0.9032 - loss: 0.2397 - val_accuracy: 0.6000 - val_loss: 0.8967\n",
            "--> biGRU results: {'val_accuracy': 0.65, 'val_f1_macro': 0.6484375}\n"
          ]
        }
      ]
    },
    {
      "cell_type": "markdown",
      "id": "7c432bfb",
      "metadata": {
        "id": "7c432bfb"
      },
      "source": [
        "Once training has finished you can run the following cell to check the training and validation accuracy achieved at the end of each epoch."
      ]
    },
    {
      "cell_type": "code",
      "source": [
        "import json\n",
        "print(\"\\n=== Summary ===\")\n",
        "print(json.dumps(results, indent=2))\n",
        "\n",
        "# Curves & bars\n",
        "plot_histories(histories, metric=\"val_accuracy\")\n",
        "plot_histories(histories, metric=\"val_loss\")\n",
        "plot_bar_results(results)"
      ],
      "metadata": {
        "id": "Ddq32MvY66Sr",
        "outputId": "85e2a405-75c8-4749-8ca7-1036c9b9c0e3",
        "colab": {
          "base_uri": "https://localhost:8080/",
          "height": 1000
        }
      },
      "id": "Ddq32MvY66Sr",
      "execution_count": 34,
      "outputs": [
        {
          "output_type": "stream",
          "name": "stdout",
          "text": [
            "\n",
            "=== Summary ===\n",
            "{\n",
            "  \"biLSTM\": {\n",
            "    \"val_accuracy\": 0.6625,\n",
            "    \"val_f1_macro\": 0.6551662971175166\n",
            "  },\n",
            "  \"biGRU\": {\n",
            "    \"val_accuracy\": 0.65,\n",
            "    \"val_f1_macro\": 0.6484375\n",
            "  }\n",
            "}\n"
          ]
        },
        {
          "output_type": "display_data",
          "data": {
            "text/plain": [
              "<Figure size 800x500 with 1 Axes>"
            ],
            "image/png": "[encoded data removed]"
          },
          "metadata": {}
        },
        {
          "output_type": "display_data",
          "data": {
            "text/plain": [
              "<Figure size 800x500 with 1 Axes>"
            ],
            "image/png": "[encoded data removed]"
          },
          "metadata": {}
        },
        {
          "output_type": "display_data",
          "data": {
            "text/plain": [
              "<Figure size 800x500 with 1 Axes>"
            ],
            "image/png": "[encoded data removed]"
          },
          "metadata": {}
        }
      ]
    },
    {
      "cell_type": "code",
      "source": [],
      "metadata": {
        "id": "LzfoYEsC66Lo"
      },
      "id": "LzfoYEsC66Lo",
      "execution_count": null,
      "outputs": []
    },
    {
      "cell_type": "code",
      "source": [],
      "metadata": {
        "id": "2hDQJQ_t66DH"
      },
      "id": "2hDQJQ_t66DH",
      "execution_count": null,
      "outputs": []
    },
    {
      "cell_type": "markdown",
      "id": "41c69b1a",
      "metadata": {
        "id": "41c69b1a"
      },
      "source": [
        "## Visualizing 3D Vectors\n",
        "\n",
        "We can visualize the vectors associated with each word in the training set in a 3D space.\n",
        "\n",
        "For this run the following cells and visit [Tensorflow's Embedding Projector](https://projector.tensorflow.org/)."
      ]
    },
    {
      "cell_type": "code",
      "execution_count": 20,
      "id": "b95d245f",
      "metadata": {
        "id": "b95d245f",
        "colab": {
          "base_uri": "https://localhost:8080/"
        },
        "outputId": "32eb307a-abfb-480e-cea5-4368149966f0"
      },
      "outputs": [
        {
          "output_type": "stream",
          "name": "stdout",
          "text": [
            "Weights of embedding layer have shape: (6001, 200)\n"
          ]
        }
      ],
      "source": [
        "# Reverse word index\n",
        "reverse_word_index = dict([(value, key) for (key, value) in word_index.items()])\n",
        "\n",
        "# Save the embedding layer\n",
        "e = model.layers[0]\n",
        "\n",
        "# Save the weights of the embedding layer\n",
        "weights = e.get_weights()[0]\n",
        "print(f\"Weights of embedding layer have shape: {weights.shape}\")"
      ]
    },
    {
      "cell_type": "markdown",
      "id": "eb987604",
      "metadata": {
        "id": "eb987604"
      },
      "source": [
        "Now run the following cell to generate the `vecs.tsv` and `meta.tsv` files that you will upload to the embedding projector."
      ]
    },
    {
      "cell_type": "code",
      "source": [],
      "metadata": {
        "id": "AzKBmEpH25Xd"
      },
      "id": "AzKBmEpH25Xd",
      "execution_count": null,
      "outputs": []
    }
  ],
  "metadata": {
    "accelerator": "GPU",
    "colab": {
      "name": "arabizi.ipynb",
      "provenance": []
    },
    "kernelspec": {
      "display_name": "Python 3",
      "language": "python",
      "name": "python3"
    },
    "language_info": {
      "codemirror_mode": {
        "name": "ipython",
        "version": 3
      },
      "file_extension": ".py",
      "mimetype": "text/x-python",
      "name": "python",
      "nbconvert_exporter": "python",
      "pygments_lexer": "ipython3",
      "version": "3.10.11"
    }
  },
  "nbformat": 4,
  "nbformat_minor": 5
}